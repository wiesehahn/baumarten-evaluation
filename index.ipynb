{
 "cells": [
  {
   "cell_type": "markdown",
   "metadata": {},
   "source": [
    "# Validierung der Baumartenklassifizierung"
   ]
  },
  {
   "cell_type": "markdown",
   "metadata": {},
   "source": [
    "## Validierung\n",
    "\n",
    "*(Probleme, Fehler, Übertragbarkaeit und mögliche Verbesserungsmöglichkeiten)*\n",
    "\n",
    "Klassifizierungsschritte und **Validierungspunkte**\n",
    "\n",
    "1. Generieren der Eingangsdaten\n",
    "    - Auswahl der Bilddaten (**Zeitpunkt**, Qualität)\n",
    "    - Vorprozessieren der Bilddaten (Korrektur topographisch, atmosphärisch,...)\n",
    "    - **Maskierung** der Bilddaten (Wolken, Schatten, Nodata)\n",
    "2. Generieren der Referenzdaten\n",
    "    - **Auswahl von Referenzdaten** \n",
    "    - Benennen (Labeln) von Referenzdaten\n",
    "    - Extrahieren der Klassifizierungsmerkmale\n",
    "    - Teilen in Trainings- und Validierungsdaten\n",
    "3. Bau des Klassifizierungsmodells\n",
    "    - Auswahl von **Klassifizierungsparametern**\n",
    "    - setzen von **Hyperparametern** \n",
    "    - validieren des Modells\n",
    "4. Anwendung des Modells \n",
    "    - Klassifizierung der Eingangsdaten \n",
    "    - Berechnen der Klassenwahrscheinlichkeit\n",
    "5. Nachprozessierung\n",
    "    - **Filterung** (Minimal Mapping Unit, Focal Filter, ...)\n",
    "    - Integration der **Klassenwahrscheinlichkeiten**\n",
    "6. Validierung der Klassifizierung\n",
    "    - Genauigkeitsstatistiken basierend auf Validierungsdaten  \n",
    "\n",
    "\n",
    "\n",
    "\n",
    "**Zeitpunkt**\n",
    "\n",
    "Was ändert sich bei Modellanwendung auf Daten anderer Zeitpunkte (kurze Zeit früher/später bzw. anderes Jahr)?\n",
    "\n",
    "**Maskierung**\n",
    "\n",
    "Hängen Fehlklassifizierungen mit fehlerhafter Maskierung zusammen?\n",
    "\n",
    "**Referenzdaten**\n",
    "\n",
    "Kann ein ausgeglichener Referenzdatensatz (gleiches Verhältnis der Klassen) das Modell verbessern?\n",
    "\n",
    "**Hyperparameter** \n",
    "\n",
    "Bringt eine Optimierung der Modell-Hyperparameter eine Verbesserung des Modells?\n",
    "\n",
    "**Filterung**\n",
    "\n",
    "Treten Fehler vermehrt durch Filteroperationen auf oder können Fehler durch weitere Filter reduziert werden?\n",
    "\n",
    "**Klassenwahrscheinlichkeiten**\n",
    "\n",
    "Stehen die Wahrscheinlichkeiten und Fehlklassifizierungen in Zusammenhang?\n",
    "\n",
    "\n"
   ]
  }
 ],
 "metadata": {
  "kernelspec": {
   "display_name": "R",
   "language": "R",
   "name": "ir"
  },
  "language_info": {
   "codemirror_mode": "r",
   "file_extension": ".r",
   "mimetype": "text/x-r-source",
   "name": "R",
   "pygments_lexer": "r",
   "version": "3.6.3"
  }
 },
 "nbformat": 4,
 "nbformat_minor": 4
}
